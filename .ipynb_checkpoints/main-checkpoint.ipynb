{
 "cells": [
  {
   "cell_type": "code",
   "execution_count": 3,
   "metadata": {},
   "outputs": [
    {
     "name": "stdout",
     "output_type": "stream",
     "text": [
      "The autoreload extension is already loaded. To reload it, use:\n",
      "  %reload_ext autoreload\n"
     ]
    },
    {
     "data": {
      "text/plain": [
       "<bound method NDFrame.head of          차량번호                 승차시간       승차X좌표      승차Y좌표        요일\n",
       "0      zixghz  2023-04-01 00:01:25  127.378452  36.298087  Saturday\n",
       "1      zixghz  2023-04-01 00:05:13  127.384640  36.297051  Saturday\n",
       "2      zixghz  2023-04-01 00:17:24  127.369007  36.329850  Saturday\n",
       "3      zixghz  2023-04-01 00:25:00  127.377270  36.351743  Saturday\n",
       "4      zixghz  2023-04-01 00:42:32  127.395335  36.376610  Saturday\n",
       "...       ...                  ...         ...        ...       ...\n",
       "16422  zixghz  2024-03-31 00:20:19  127.377515  36.349750    Sunday\n",
       "16423  zixghz  2024-03-31 01:45:51  127.306719  36.358334    Sunday\n",
       "16424  zixghz  2024-03-31 02:03:25  127.350080  36.360889    Sunday\n",
       "16425  zixghz  2024-03-31 02:27:29  127.391341  36.314762    Sunday\n",
       "16426  zixghz  2024-03-31 02:47:58  127.350148  36.362166    Sunday\n",
       "\n",
       "[16427 rows x 5 columns]>"
      ]
     },
     "execution_count": 3,
     "metadata": {},
     "output_type": "execute_result"
    }
   ],
   "source": [
    "import pandas as pd\n",
    "import numpy as np\n",
    "\n",
    "%load_ext autoreload\n",
    "%autoreload 2\n",
    "%matplotlib inline"
   ]
  },
  {
   "cell_type": "code",
   "execution_count": 4,
   "metadata": {},
   "outputs": [
    {
     "data": {
      "text/plain": [
       "<bound method NDFrame.head of          차량번호                 승차시간       승차X좌표      승차Y좌표        요일\n",
       "0      zixghz  2023-04-01 00:01:25  127.378452  36.298087  Saturday\n",
       "1      zixghz  2023-04-01 00:05:13  127.384640  36.297051  Saturday\n",
       "2      zixghz  2023-04-01 00:17:24  127.369007  36.329850  Saturday\n",
       "3      zixghz  2023-04-01 00:25:00  127.377270  36.351743  Saturday\n",
       "4      zixghz  2023-04-01 00:42:32  127.395335  36.376610  Saturday\n",
       "...       ...                  ...         ...        ...       ...\n",
       "16422  zixghz  2024-03-31 00:20:19  127.377515  36.349750    Sunday\n",
       "16423  zixghz  2024-03-31 01:45:51  127.306719  36.358334    Sunday\n",
       "16424  zixghz  2024-03-31 02:03:25  127.350080  36.360889    Sunday\n",
       "16425  zixghz  2024-03-31 02:27:29  127.391341  36.314762    Sunday\n",
       "16426  zixghz  2024-03-31 02:47:58  127.350148  36.362166    Sunday\n",
       "\n",
       "[16427 rows x 5 columns]>"
      ]
     },
     "execution_count": 4,
     "metadata": {},
     "output_type": "execute_result"
    }
   ],
   "source": [
    "data = pd.read_csv(\"sample.csv\", encoding='cp949')\n",
    "data.head"
   ]
  },
  {
   "cell_type": "code",
   "execution_count": null,
   "metadata": {},
   "outputs": [],
   "source": []
  }
 ],
 "metadata": {
  "kernelspec": {
   "display_name": "deeplearning",
   "language": "python",
   "name": "dl"
  },
  "language_info": {
   "codemirror_mode": {
    "name": "ipython",
    "version": 3
   },
   "file_extension": ".py",
   "mimetype": "text/x-python",
   "name": "python",
   "nbconvert_exporter": "python",
   "pygments_lexer": "ipython3",
   "version": "3.12.2"
  }
 },
 "nbformat": 4,
 "nbformat_minor": 2
}
